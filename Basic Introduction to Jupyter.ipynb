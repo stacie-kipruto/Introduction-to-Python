{
 "cells": [
  {
   "cell_type": "markdown",
   "id": "4e09e5aa",
   "metadata": {},
   "source": [
    "# INTRODUCTION TO JUPYTER & PYTHON"
   ]
  },
  {
   "cell_type": "markdown",
   "id": "4816b31f",
   "metadata": {},
   "source": [
    "## Values and Types"
   ]
  },
  {
   "cell_type": "markdown",
   "id": "fe56e9a1",
   "metadata": {},
   "source": [
    "#### A value is one of the basic things a program works with, i.e a letter or number"
   ]
  },
  {
   "cell_type": "code",
   "execution_count": 1,
   "id": "5a2a635d",
   "metadata": {},
   "outputs": [
    {
     "data": {
      "text/plain": [
       "2"
      ]
     },
     "execution_count": 1,
     "metadata": {},
     "output_type": "execute_result"
    }
   ],
   "source": [
    "1+1"
   ]
  },
  {
   "cell_type": "code",
   "execution_count": 2,
   "id": "390f345a",
   "metadata": {},
   "outputs": [
    {
     "name": "stdout",
     "output_type": "stream",
     "text": [
      "HELLO WORLD\n"
     ]
    }
   ],
   "source": [
    "print(\"HELLO WORLD\")"
   ]
  },
  {
   "cell_type": "code",
   "execution_count": 3,
   "id": "40e6e5d4",
   "metadata": {},
   "outputs": [
    {
     "data": {
      "text/plain": [
       "'HELLO'"
      ]
     },
     "execution_count": 3,
     "metadata": {},
     "output_type": "execute_result"
    }
   ],
   "source": [
    "\"HELLO\""
   ]
  },
  {
   "cell_type": "code",
   "execution_count": 4,
   "id": "e7b8253d",
   "metadata": {},
   "outputs": [
    {
     "name": "stdout",
     "output_type": "stream",
     "text": [
      "new name\n"
     ]
    }
   ],
   "source": [
    "print(\"new name\")"
   ]
  },
  {
   "cell_type": "markdown",
   "id": "97ac491f",
   "metadata": {},
   "source": [
    "#### The values above belong to different types. 2 is an **integer** and \"Hello World\" is a **string**"
   ]
  },
  {
   "cell_type": "code",
   "execution_count": 5,
   "id": "a314e5a0",
   "metadata": {},
   "outputs": [],
   "source": [
    "#when not sure what type of a variable you have, run the following"
   ]
  },
  {
   "cell_type": "code",
   "execution_count": 6,
   "id": "4281f0ea",
   "metadata": {},
   "outputs": [
    {
     "data": {
      "text/plain": [
       "str"
      ]
     },
     "execution_count": 6,
     "metadata": {},
     "output_type": "execute_result"
    }
   ],
   "source": [
    "type(\"hello world\")"
   ]
  },
  {
   "cell_type": "code",
   "execution_count": 7,
   "id": "63e8e691",
   "metadata": {},
   "outputs": [
    {
     "data": {
      "text/plain": [
       "int"
      ]
     },
     "execution_count": 7,
     "metadata": {},
     "output_type": "execute_result"
    }
   ],
   "source": [
    "type(12)"
   ]
  },
  {
   "cell_type": "code",
   "execution_count": 8,
   "id": "ad8a6830",
   "metadata": {},
   "outputs": [
    {
     "data": {
      "text/plain": [
       "bool"
      ]
     },
     "execution_count": 8,
     "metadata": {},
     "output_type": "execute_result"
    }
   ],
   "source": [
    "type(False)"
   ]
  },
  {
   "cell_type": "code",
   "execution_count": 9,
   "id": "55bf561b",
   "metadata": {},
   "outputs": [
    {
     "data": {
      "text/plain": [
       "float"
      ]
     },
     "execution_count": 9,
     "metadata": {},
     "output_type": "execute_result"
    }
   ],
   "source": [
    "type(2.3)"
   ]
  },
  {
   "cell_type": "markdown",
   "id": "ebdec04b",
   "metadata": {},
   "source": [
    "### Manipulations of values"
   ]
  },
  {
   "cell_type": "code",
   "execution_count": 10,
   "id": "0780c300",
   "metadata": {},
   "outputs": [],
   "source": [
    "age = \"18\""
   ]
  },
  {
   "cell_type": "code",
   "execution_count": 11,
   "id": "8c2f666a",
   "metadata": {},
   "outputs": [
    {
     "data": {
      "text/plain": [
       "False"
      ]
     },
     "execution_count": 11,
     "metadata": {},
     "output_type": "execute_result"
    }
   ],
   "source": [
    "18 == age"
   ]
  },
  {
   "cell_type": "code",
   "execution_count": 12,
   "id": "c63c3d55",
   "metadata": {},
   "outputs": [],
   "source": [
    "age = int(age)"
   ]
  },
  {
   "cell_type": "code",
   "execution_count": 13,
   "id": "8ba9e584",
   "metadata": {},
   "outputs": [
    {
     "data": {
      "text/plain": [
       "18"
      ]
     },
     "execution_count": 13,
     "metadata": {},
     "output_type": "execute_result"
    }
   ],
   "source": [
    "age"
   ]
  },
  {
   "cell_type": "code",
   "execution_count": 14,
   "id": "452fdf80",
   "metadata": {},
   "outputs": [
    {
     "data": {
      "text/plain": [
       "True"
      ]
     },
     "execution_count": 14,
     "metadata": {},
     "output_type": "execute_result"
    }
   ],
   "source": [
    "age == 18 "
   ]
  },
  {
   "cell_type": "code",
   "execution_count": 15,
   "id": "bb7afc02",
   "metadata": {},
   "outputs": [
    {
     "data": {
      "text/plain": [
       "False"
      ]
     },
     "execution_count": 15,
     "metadata": {},
     "output_type": "execute_result"
    }
   ],
   "source": [
    "18 == \"18\""
   ]
  },
  {
   "cell_type": "markdown",
   "id": "36ac5dfa",
   "metadata": {},
   "source": [
    "## Variables"
   ]
  },
  {
   "cell_type": "markdown",
   "id": "6d9996d9",
   "metadata": {},
   "source": [
    "### -It is a container of data\n",
    "### -giving a variable a value is called \"assignment\", this is done by the equal(=) sign"
   ]
  },
  {
   "cell_type": "code",
   "execution_count": 16,
   "id": "94c0f1be",
   "metadata": {},
   "outputs": [
    {
     "name": "stdout",
     "output_type": "stream",
     "text": [
      "30\n"
     ]
    }
   ],
   "source": [
    "#area of a triangle\n",
    "\n",
    "length = 6\n",
    "width = 5\n",
    "\n",
    "print(length * width)"
   ]
  },
  {
   "cell_type": "code",
   "execution_count": 17,
   "id": "3becb543",
   "metadata": {},
   "outputs": [
    {
     "name": "stdout",
     "output_type": "stream",
     "text": [
      "habari\n"
     ]
    }
   ],
   "source": [
    "greetings = \"habari\"\n",
    "print(greetings)"
   ]
  },
  {
   "cell_type": "code",
   "execution_count": 18,
   "id": "829ead9a",
   "metadata": {},
   "outputs": [
    {
     "name": "stdout",
     "output_type": "stream",
     "text": [
      "18\n"
     ]
    }
   ],
   "source": [
    "n=18\n",
    "print(n)"
   ]
  },
  {
   "cell_type": "markdown",
   "id": "063350d0",
   "metadata": {},
   "source": [
    "## Naming of Variables"
   ]
  },
  {
   "cell_type": "markdown",
   "id": "437efc83",
   "metadata": {},
   "source": [
    "## Dont's"
   ]
  },
  {
   "cell_type": "markdown",
   "id": "eb989efa",
   "metadata": {},
   "source": [
    "### - No keywords i.e print(), import\n",
    "### - Cannot start with a number\n",
    "### -No special characters\n",
    "### -No spaces"
   ]
  },
  {
   "cell_type": "code",
   "execution_count": 19,
   "id": "58759e7b",
   "metadata": {},
   "outputs": [
    {
     "name": "stdout",
     "output_type": "stream",
     "text": [
      "Anne\n"
     ]
    }
   ],
   "source": [
    "student = \"Jane\"\n",
    "student = \"Anne\"\n",
    "print(student)"
   ]
  },
  {
   "cell_type": "markdown",
   "id": "3842ab8c",
   "metadata": {},
   "source": [
    "## Best Practise"
   ]
  },
  {
   "cell_type": "markdown",
   "id": "1c8f38ac",
   "metadata": {},
   "source": [
    "### -Descriptive Variable names\n",
    "### -CamelCase or camelCase\n",
    "### -Proper use of Underscore\n",
    "### -Commenting"
   ]
  },
  {
   "cell_type": "code",
   "execution_count": 20,
   "id": "d42028da",
   "metadata": {},
   "outputs": [
    {
     "name": "stdout",
     "output_type": "stream",
     "text": [
      "Belinda\n"
     ]
    }
   ],
   "source": [
    "s_n = \"Belinda\"\n",
    "print(s_n)"
   ]
  },
  {
   "cell_type": "code",
   "execution_count": 21,
   "id": "951608aa",
   "metadata": {},
   "outputs": [
    {
     "ename": "SyntaxError",
     "evalue": "invalid syntax (<ipython-input-21-391cef00dd5c>, line 1)",
     "output_type": "error",
     "traceback": [
      "\u001b[1;36m  File \u001b[1;32m\"<ipython-input-21-391cef00dd5c>\"\u001b[1;36m, line \u001b[1;32m1\u001b[0m\n\u001b[1;33m    Student Name = \"Nancy\"\u001b[0m\n\u001b[1;37m            ^\u001b[0m\n\u001b[1;31mSyntaxError\u001b[0m\u001b[1;31m:\u001b[0m invalid syntax\n"
     ]
    }
   ],
   "source": [
    "Student Name = \"Nancy\"\n",
    "print(student name)"
   ]
  },
  {
   "cell_type": "code",
   "execution_count": 22,
   "id": "215e631e",
   "metadata": {},
   "outputs": [],
   "source": [
    "studentName, StudentAge, studentlocation = \"Sidney\", 21, \"India\""
   ]
  },
  {
   "cell_type": "code",
   "execution_count": 23,
   "id": "9f2084d5",
   "metadata": {},
   "outputs": [
    {
     "name": "stdout",
     "output_type": "stream",
     "text": [
      "I am Sidney 21\n"
     ]
    }
   ],
   "source": [
    "print(\"I am\", studentName, StudentAge)"
   ]
  },
  {
   "cell_type": "code",
   "execution_count": 24,
   "id": "7538753c",
   "metadata": {},
   "outputs": [
    {
     "name": "stdout",
     "output_type": "stream",
     "text": [
      "I am Sidney and I am 21 years old\n"
     ]
    }
   ],
   "source": [
    "print(\"I am\", studentName, \"and I am\", StudentAge, \"years old\")"
   ]
  },
  {
   "cell_type": "markdown",
   "id": "d3121723",
   "metadata": {},
   "source": [
    "## Operators and Operands"
   ]
  },
  {
   "cell_type": "raw",
   "id": "92f02ce1",
   "metadata": {},
   "source": [
    "Operators are special symbols that represent computations such as addition and multiplication\n",
    "The Values the operator is applied to are called Operands"
   ]
  },
  {
   "cell_type": "raw",
   "id": "744d6976",
   "metadata": {},
   "source": [
    "Mathematical Operators\n",
    "- multiplication: *\n",
    "- addition: +\n",
    "- subtraction: -\n",
    "- division: /\n",
    "- floor division: //\n",
    "- exponential: **\n",
    "- logs: math.log\n",
    "- modulus: %"
   ]
  },
  {
   "cell_type": "code",
   "execution_count": 25,
   "id": "98ac6f05",
   "metadata": {},
   "outputs": [
    {
     "data": {
      "text/plain": [
       "64"
      ]
     },
     "execution_count": 25,
     "metadata": {},
     "output_type": "execute_result"
    }
   ],
   "source": [
    "4**3"
   ]
  },
  {
   "cell_type": "code",
   "execution_count": 26,
   "id": "680a8297",
   "metadata": {},
   "outputs": [
    {
     "data": {
      "text/plain": [
       "float"
      ]
     },
     "execution_count": 26,
     "metadata": {},
     "output_type": "execute_result"
    }
   ],
   "source": [
    "type(4/2)"
   ]
  },
  {
   "cell_type": "code",
   "execution_count": 27,
   "id": "7d6fd806",
   "metadata": {},
   "outputs": [
    {
     "data": {
      "text/plain": [
       "1"
      ]
     },
     "execution_count": 27,
     "metadata": {},
     "output_type": "execute_result"
    }
   ],
   "source": [
    "7%2 #modulo -remainder"
   ]
  }
 ],
 "metadata": {
  "kernelspec": {
   "display_name": "Python 3",
   "language": "python",
   "name": "python3"
  },
  "language_info": {
   "codemirror_mode": {
    "name": "ipython",
    "version": 3
   },
   "file_extension": ".py",
   "mimetype": "text/x-python",
   "name": "python",
   "nbconvert_exporter": "python",
   "pygments_lexer": "ipython3",
   "version": "3.8.8"
  }
 },
 "nbformat": 4,
 "nbformat_minor": 5
}
